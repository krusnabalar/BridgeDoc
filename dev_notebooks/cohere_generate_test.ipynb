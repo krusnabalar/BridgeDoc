{
  "nbformat": 4,
  "nbformat_minor": 0,
  "metadata": {
    "colab": {
      "provenance": [],
      "collapsed_sections": []
    },
    "kernelspec": {
      "name": "python3",
      "display_name": "Python 3"
    },
    "language_info": {
      "name": "python"
    }
  },
  "cells": [
    {
      "cell_type": "code",
      "source": [
        "import cohere\n",
        "co = cohere.Client('LelVb4wK6VN1AV0phn4IAnvEwNVTxuaqW3BTks4Q')\n",
        "symptoms = ['vomiting', 'fatigue', 'chills', 'joint pain', 'headache',  'stomach pain', 'breathlessness', 'yellowish skin', 'chest pain', 'cough', 'weight loss', 'mood swings', 'neck pain', 'high fever']\n",
        "\n",
        "for symptom in symptoms:\n",
        "  response = co.generate(\n",
        "      prompt=f\"describe {symptom} to me\",\n",
        "      max_tokens=100,\n",
        "      model='xlarge',\n",
        "      temperature=0,\n",
        "      num_generations=3,\n",
        "      k=10,\n",
        "      p=0.99,\n",
        "      frequency_penalty=1,\n",
        "      presence_penalty=1\n",
        "      )\n",
        "  print('Prediction: {}'.format(response.generations[0].text))\n"
      ],
      "metadata": {
        "id": "ifVymn6a1UlK",
        "colab": {
          "base_uri": "https://localhost:8080/"
        },
        "outputId": "758299fb-4022-4cd0-c5f6-d6f5afd092ec"
      },
      "execution_count": 34,
      "outputs": [
        {
          "output_type": "stream",
          "name": "stdout",
          "text": [
            "Prediction: .\n",
            "I’m not sure if I can describe it, but I know what it feels like.\n",
            "It’s a feeling of being empty and wanting to be filled up again. It’s a feeling of emptiness that you want to fill with something else, anything else, even though you don’t know what that is yet. It’s the feeling of having nothing left inside your body except for the need to vomit everything out so that you can feel better again.\n",
            "\n",
            "Prediction: .\n",
            "I’m not sure if I can describe it, but I know what it feels like. It’s a feeling of being tired and exhausted all the time, even when you have had enough sleep or rest. You feel weak and drained of energy, as though your body is running on empty. Your muscles ache and you are easily irritated by things that normally wouldn’t bother you at all.\n",
            "Fatigue is one of those symptoms that people often ignore because they don’t\n",
            "Prediction: .\n",
            "I’m not sure if I can describe the feeling of being in a room full of people who are all there for the same reason, and that is to learn more about something they love. It’s like you know everyone else has been where you have been, or at least knows what it feels like to be where you are now. You feel connected with them because they understand your passion and want to share their knowledge with you.\n",
            "This was my first time attending a conference as\n",
            "Prediction: .\n",
            "I have been a patient of Dr. Kramer for over 10 years and I can honestly say that he is the best chiropractor in the world! He has helped me with my back, neck, shoulder and knee problems. His staff is very friendly and helpful as well. I highly recommend him to anyone who needs a great chiropractor!\n",
            "Dr Kramer is an excellent Chiropractor who really cares about his patients health & well being. He takes time to listen & explain\n",
            "Prediction: .\n",
            "I have a lot of headaches, but I don't think they're migraines. They are usually on the right side and feel like my head is being squeezed in a vise. Sometimes it feels like someone is hitting me with an axe or hammer inside my skull. It's not always on the same spot, either; sometimes it's at the back of my head, sometimes near the top or front (but never behind). The pain can be so bad that I throw up from\n",
            "Prediction: .\n",
            "I have been in the medical field for over 20 years and I can tell you that this is not a normal symptom of pregnancy. It could be something else, but it sounds like you should see your doctor as soon as possible. Good luck!\n",
            "I am currently pregnant with my first child and I am experiencing some pretty bad pains in my lower abdomen on both sides of my belly button area. The pain comes and goes throughout the day, but when it does come it's very sharp\n",
            "Prediction: .\n",
            "I have been a patient of Dr. K’s for over 10 years and I can honestly say that he is the best doctor I have ever had! He has always taken the time to listen, explain things in detail and answer all my questions. His staff is also very friendly and helpful.\n",
            "Dr K was great! Very thorough with his exam, explained everything clearly, took his time with me (not rushed), answered all my questions thoroughly, made sure I understood what he was saying\n",
            "Prediction: .\n",
            "I have a question about the word \"yellowish\" in this sentence: \"The patient's skin was yellowish.\" I know that it means something like \"a little bit yellow\", but what is the difference between using just \"yellow\" and using \"yellowish\"? Is there any?\n",
            "It's not really a matter of meaning, but rather of style. The two words are interchangeable, so you can use whichever one you prefer. Personally, I think 'yellow' sounds better\n",
            "Prediction: .\n",
            "I have a lot of experience with this, and I can tell you that it is not uncommon for people to describe their chest pain as “sharp” or “stabbing.” It’s also common for them to say they feel like something is stuck in their chest.\n",
            "The problem with these descriptions is that they are subjective and don’t really help us figure out what the underlying cause of the pain might be. For example, if someone says their chest pain feels sharp,\n",
            "Prediction: .\n",
            "I have a very bad cough, and I am not sure what it is from. It started about 2 weeks ago, and has gotten worse since then. I have had a cold for the past week or so, but my cough seems to be getting worse instead of better. My doctor told me that it was just part of the cold, but now he thinks that it might be something else too because my chest hurts when I breathe in deeply (like when you get pneumonia). He gave me\n",
            "Prediction: .\n",
            "I’m not sure if I can describe it, but I know what it feels like. It’s a feeling of being lighter and more energetic than you have ever been before. You feel good about yourself and your body, which is something that many people struggle with for years on end.\n",
            "It’s also a feeling of accomplishment because you did something that most people don’t do – lose weight! And the best part? You didn’t even have to go through surgery\n",
            "Prediction: .\n",
            "I’m not sure if I have a favorite book, but I do love the Harry Potter series and The Hunger Games trilogy.\n",
            "My favorite movie is probably “The Princess Bride.” It’s just so funny!\n",
            "I don’t really have one, but my husband and I are big fans of the TV show “How I Met Your Mother” (we even went to see them in concert last year). We also like watching reruns of “Friends,” which we can\n",
            "Prediction: .\n",
            "I have been a patient of Dr. Kramer for over 10 years and I can honestly say that he is the best chiropractor in the world! He has helped me with my back, shoulder, knee and foot problems. His staff is very friendly and helpful as well. I highly recommend him to anyone who needs an excellent chiropractor!\n",
            "Dr Kramer is amazing!! He’s so knowledgeable about his field & truly cares about his patients health & well being!! The office\n",
            "Prediction: .\n",
            "I’m not sure if I can describe it, but I know what it feels like.\n",
            "It is a feeling of being hot and cold at the same time. It is a feeling of wanting to be in bed all day long, but you have things that need to get done so you force yourself out of bed and go about your day as normal. It is a feeling where you are constantly thirsty, yet drinking water makes no difference because your body just doesn’t want any\n"
          ]
        }
      ]
    }
  ]
}