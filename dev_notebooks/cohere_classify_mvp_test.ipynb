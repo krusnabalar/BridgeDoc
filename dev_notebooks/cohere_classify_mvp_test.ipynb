{
 "cells": [
  {
   "cell_type": "code",
   "execution_count": 13,
   "metadata": {},
   "outputs": [
    {
     "name": "stdout",
     "output_type": "stream",
     "text": [
      "The confidence levels of the labels are: [cohere.Classification {\n",
      "\tinput: I feel like my stomach is about escape my mouth\n",
      "\tprediction: nausea\n",
      "\tconfidence: [cohere.Confidence {\n",
      "\tlabel: chills\n",
      "\tconfidence: 0.0002678379\n",
      "}, cohere.Confidence {\n",
      "\tlabel: cough\n",
      "\tconfidence: 0.0012071427\n",
      "}, cohere.Confidence {\n",
      "\tlabel: fatigue\n",
      "\tconfidence: 0.0007412315\n",
      "}, cohere.Confidence {\n",
      "\tlabel: headache\n",
      "\tconfidence: 0.00058186665\n",
      "}, cohere.Confidence {\n",
      "\tlabel: joint pain\n",
      "\tconfidence: 0.00032879238\n",
      "}, cohere.Confidence {\n",
      "\tlabel: nausea\n",
      "\tconfidence: 0.99687314\n",
      "}]\n",
      "\tlabels: {'chills': cohere.LabelPrediction {\n",
      "\tconfidence: 0.0002678379\n",
      "}, 'cough': cohere.LabelPrediction {\n",
      "\tconfidence: 0.0012071427\n",
      "}, 'fatigue': cohere.LabelPrediction {\n",
      "\tconfidence: 0.0007412315\n",
      "}, 'headache': cohere.LabelPrediction {\n",
      "\tconfidence: 0.00058186665\n",
      "}, 'joint pain': cohere.LabelPrediction {\n",
      "\tconfidence: 0.00032879238\n",
      "}, 'nausea': cohere.LabelPrediction {\n",
      "\tconfidence: 0.99687314\n",
      "}}\n",
      "}]\n"
     ]
    }
   ],
   "source": [
    "import cohere\n",
    "import numpy as np\n",
    "from cohere.classify import Example\n",
    "import numpy as np\n",
    "co = cohere.Client('qfjwp1pbZawgJ6Ob8vV0REhLDUcZxWg9FrXLEh0m')\n",
    "response = co.classify(\n",
    "  model='large',\n",
    "  inputs=[\"I feel like my stomach is about escape my mouth\"],\n",
    "  examples=[Example(\"feeling of being cold without an apparent cause\", \"chills\"), Example(\"vibratory muscular movement\", \"chills\"), Example(\"involuntary trembling\", \"chills\"), Example(\"shivers \", \"chills\"), Example(\"i don\\'t know what\\'s wrong with me, but i feel so cold and shaky all the time.\\n\\nit\\'s not just my hands or feet either, it\\'s my whole body.\\n\", \"chills\"), Example(\"when i get really hot (like in a hot shower) then i start shaking again because of how cold i am.\\n\\ni\\'ve been feeling this way for about two weeks now and it doesn\\'t seem to be getting any better at all!\", \"chills\"), Example(\"I\\'ve been having a lot of those lately, and it\\'s not because I\\'m cold. It\\'s because my body is trying to tell me something. It\\'s telling me that I need to slow down, take care of myself, and get some rest. So this week has been all about taking care of myself - eating well (and by \\\"well\\\" I mean healthy), getting enough sleep, drinking lots of water...all the things you\\'re supposed to do when\", \"chills\"), Example(\"feeling cold\", \"chills\"), Example(\"I have phlegm, but it is not yellow or green. It\\'s clear and white. Is that normal?\", \"cough\"), Example(\"I coughed up blood\", \"cough\"), Example(\"I have dry cough with no other symptoms\", \"cough\"), Example(\"I have a constant dry hacking cough.\\n\\n\", \"cough\"), Example(\"I get a persistent dry hacking cough in the morning after waking up from sleep \", \"cough\"), Example(\"My throat feels like it is on fire all of the time.\\n My chest hurts too (not as much as my throat), but still hurts enough to make it hard\", \"cough\"), Example(\"it hurts to swallow anything (even water)\", \"cough\"), Example(\"lack of energy,\", \"fatigue\"), Example(\"excessive tiredness\", \"fatigue\"), Example(\"I can\\'t do this anymore\", \"fatigue\"), Example(\"Basically, when your muscles are working really hard (like during exercise), they use up all their energy and start using protein in your body as fuel instead of carbohydrates or fat. This is called \\\"glycogen depletion\\\" and it can make you feel tired and weak if not replenished\", \"fatigue\"), Example(\"constant tiredness or weakness\", \"fatigue\"), Example(\"constant state of weariness \", \"fatigue\"), Example(\"I fell down\", \"fatigue\"), Example(\"extreme tiredness\", \"fatigue\"), Example(\"over tired \", \"fatigue\"), Example(\"exhausted.\", \"fatigue\"), Example(\"My legs keep asking me to rest\", \"fatigue\"), Example(\"I don\\'t think they\\'re migraines. They are usually on the right side and feel like my head is being squeezed in a vise.\", \"headache\"), Example(\"Sometimes it feels like someone is hitting me with an axe or hammer inside my skull. It\\'s not always on the same spot, either; sometimes it\\'s at the back of my head, sometimes near the top or front (but never behind). The pain can be so bad that I throw up from\", \"headache\"), Example(\"it\\'s not going away.\\n\\nIt\\'s been there for days now, and I don\\'t know what to do about it.\\n\\nI\\'ve tried everything: Tylenol, Advil, Excedrin Migraine... nothing works!\", \"headache\"), Example(\"And the worst part is that my head hurts all over - in my forehead, behind my eyes, on top of my head... everywhere! It feels like someone has taken a hammer to the inside of my skull and\", \"headache\"), Example(\"I have a dizzying pain\", \"headache\"), Example(\"The migraines would come of too much cheese or chocolate\", \"headache\"), Example(\"join discomfort\", \"joint pain\"), Example(\"a burst of pain in my joints\", \"joint pain\"), Example(\"I walk like my limbs don’t really belong to me and each step is a negotiation rather than an order\", \"joint pain\"), Example(\"my knuckles felt too large and like they didn\\'t want to bend\", \"joint pain\"), Example(\"I\\'ve been in a lot of pain for the past few days, and it\\'s not getting better. It\\'s actually getting worse. I can\\'t sleep because my hip hurts so much that when I lie down on one side, it feels like someone is stabbing me with a knife in the other hip. My back hurts too, but at least that doesn\\'t keep me awake at night (yet).\\n\\nI have an appointment with my rheumatologist tomorrow morning, and hopefully\", \"joint pain\"), Example(\"Don\\'t show me food dont\\' show me drinks\", \"nausea\"), Example(\"my stomach is tumbling like a dryer...\", \"nausea\"), Example(\"Sick to my stomach\", \"nausea\"), Example(\"MY STOMACH IS KNOTTING\", \"nausea\"), Example(\"Stomach doing flip flops or turning somersaults\", \"nausea\"), Example(\"Butterflies? I have a whole swarm of bees in there.\", \"nausea\")])\n",
    "  \n",
    "\n",
    "# Script to retrieve top 3 symptom predictions\n",
    "\n",
    "# for i in range(0, 6):\n",
    "#   arr.append(response.classifications[0].confidence[i].confidence)\n",
    "\n",
    "# print(arr)\n",
    "# dictionary = {\n",
    "#   arr[0]: \"chills\",\n",
    "#   arr[1]: \"cough\",\n",
    "#   arr[2]: \"fatigue\",\n",
    "#   arr[3]: \"headache\",\n",
    "#   arr[4]: \"joint pain\",\n",
    "#   arr[5]: \"nausea\"\n",
    "# }\n",
    "  \n",
    "# arr = np.sort(arr)\n",
    "\n",
    "# print(\"symptom: {}\".format(dictionary[arr[5]]));\n",
    "# print(\"symptom: {}\".format(dictionary[arr[4]]));\n",
    "# print(\"symptom: {}\".format(dictionary[arr[3]]));"
   ]
  },
  {
   "cell_type": "code",
   "execution_count": 19,
   "outputs": [],
   "source": [
    "from voyagers.frontend.src.helper import getTopSymptoms\n",
    "\n",
    "getSymps = getTopSymptoms(response,4)"
   ],
   "metadata": {
    "collapsed": false,
    "pycharm": {
     "name": "#%%\n"
    }
   }
  },
  {
   "cell_type": "code",
   "execution_count": 20,
   "outputs": [
    {
     "data": {
      "text/plain": "[(0.99687314, 'nausea'),\n (0.0012071427, 'cough'),\n (0.0007412315, 'fatigue'),\n (0.00058186665, 'headache')]"
     },
     "execution_count": 20,
     "metadata": {},
     "output_type": "execute_result"
    }
   ],
   "source": [
    "getSymps"
   ],
   "metadata": {
    "collapsed": false,
    "pycharm": {
     "name": "#%%\n"
    }
   }
  },
  {
   "cell_type": "code",
   "execution_count": 16,
   "outputs": [
    {
     "name": "stdout",
     "output_type": "stream",
     "text": [
      "<class 'list'>\n",
      "[(0.99687314, 'nausea'), (0.0012071427, 'cough'), (0.0007412315, 'fatigue')]\n"
     ]
    }
   ],
   "source": [
    "y=x[0].confidence[0].confidence\n",
    "z=x[0].confidence[0].label\n",
    "\n",
    "print(type(x[0].confidence))\n",
    "\n",
    "dictionary = {}\n",
    "\n",
    "\n",
    "import numpy as np\n",
    "values = []\n",
    "length = len(x[0].confidence)\n",
    "for i in range(length):\n",
    "  values.append(x[0].confidence[i].confidence)\n",
    "  dictionary[x[0].confidence[i].confidence] = x[0].confidence[i].label\n",
    "\n",
    "sorted_values = np.sort(values)\n",
    "\n",
    "length = len(sorted_values)\n",
    "top_n = 3\n",
    "top_3_object = []\n",
    "\n",
    "for i in range(top_n):\n",
    "  top_3_object.append((sorted_values[length - i - 1],dictionary[sorted_values[length - i - 1]]))\n",
    "\n",
    "print(top_3_object)"
   ],
   "metadata": {
    "collapsed": false,
    "pycharm": {
     "name": "#%%\n"
    }
   }
  },
  {
   "cell_type": "code",
   "execution_count": null,
   "outputs": [],
   "source": [],
   "metadata": {
    "collapsed": false,
    "pycharm": {
     "name": "#%%\n"
    }
   }
  }
 ],
 "metadata": {
  "kernelspec": {
   "display_name": "Python 3.10.7 64-bit (microsoft store)",
   "language": "python",
   "name": "python3"
  },
  "language_info": {
   "codemirror_mode": {
    "name": "ipython",
    "version": 3
   },
   "file_extension": ".py",
   "mimetype": "text/x-python",
   "name": "python",
   "nbconvert_exporter": "python",
   "pygments_lexer": "ipython3",
   "version": "3.10.7"
  },
  "orig_nbformat": 4,
  "vscode": {
   "interpreter": {
    "hash": "7fabf4996d99ee5a7a5556fd39d60198a22d93f4f09a223b76639e0562d923c5"
   }
  }
 },
 "nbformat": 4,
 "nbformat_minor": 2
}