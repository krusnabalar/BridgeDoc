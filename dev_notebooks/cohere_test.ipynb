{
  "nbformat": 4,
  "nbformat_minor": 0,
  "metadata": {
    "colab": {
      "provenance": []
    },
    "kernelspec": {
      "name": "python3",
      "display_name": "Python 3"
    },
    "language_info": {
      "name": "python"
    }
  },
  "cells": [
    {
      "cell_type": "code",
      "execution_count": null,
      "metadata": {
        "id": "Ugyz5ZeaTTbh"
      },
      "outputs": [],
      "source": [
        "!pip install cohere"
      ]
    },
    {
      "cell_type": "code",
      "source": [
        "import cohere\n",
        "from cohere.classify import Example"
      ],
      "metadata": {
        "id": "J8wY2lMafD9f"
      },
      "execution_count": 2,
      "outputs": []
    },
    {
      "cell_type": "code",
      "source": [
        "co = cohere.Client('qfjwp1pbZawgJ6Ob8vV0REhLDUcZxWg9FrXLEh0m')\n",
        "classifications = co.classify(\n",
        "  model='medium',\n",
        "  outputIndicator='this is:',\n",
        "  inputs=[\"I feel really tired\", \"I can't even see any food\"],\n",
        "  examples=[Example(\"feel like throwing up\", \"nausea\"), \n",
        "            Example(\"I can't do this anymore\", \"tiredness\"), \n",
        "            Example(\"Don't show me food, don't show me drinks\", \"nausea\"), \n",
        "            Example(\"I don't feel like waking up\", \"tiredness\"), \n",
        "            Example(\"I feel a strong pain in my abdoment and I wanna trow up\", \"nausea\"), \n",
        "            Example(\"I feel like sleeping everywhere\", \"tiredness\"), \n",
        "            Example(\"The order is 5 days late\", \"nausea\"), \n",
        "            Example(\"I feel drained\", \"tiredness\"), \n",
        "            Example(\"Sick to my stomach, Like I have eaten too much\", \"nausea\"), \n",
        "            Example(\"My eyes feel heavy\", \"tiredness\")])"
      ],
      "metadata": {
        "id": "_9YWLXxYfDPZ"
      },
      "execution_count": 11,
      "outputs": []
    },
    {
      "cell_type": "code",
      "source": [
        "classifications.classifications"
      ],
      "metadata": {
        "colab": {
          "base_uri": "https://localhost:8080/"
        },
        "id": "Dna35_D7hVWv",
        "outputId": "5b7485d8-2ed1-41cb-b5ca-efd9dbe4a96c"
      },
      "execution_count": 12,
      "outputs": [
        {
          "output_type": "execute_result",
          "data": {
            "text/plain": [
              "[cohere.Classification {\n",
              " \tinput: I feel really tired\n",
              " \tprediction: tiredness\n",
              " \tconfidence: [cohere.Confidence {\n",
              " \tlabel: nausea\n",
              " \tconfidence: 0.0070674326\n",
              " }, cohere.Confidence {\n",
              " \tlabel: tiredness\n",
              " \tconfidence: 0.99293256\n",
              " }]\n",
              " \tlabels: {'nausea': cohere.LabelPrediction {\n",
              " \tconfidence: 0.0070674326\n",
              " }, 'tiredness': cohere.LabelPrediction {\n",
              " \tconfidence: 0.99293256\n",
              " }}\n",
              " }, cohere.Classification {\n",
              " \tinput: I can't even see any food\n",
              " \tprediction: nausea\n",
              " \tconfidence: [cohere.Confidence {\n",
              " \tlabel: nausea\n",
              " \tconfidence: 0.95281434\n",
              " }, cohere.Confidence {\n",
              " \tlabel: tiredness\n",
              " \tconfidence: 0.04718569\n",
              " }]\n",
              " \tlabels: {'nausea': cohere.LabelPrediction {\n",
              " \tconfidence: 0.95281434\n",
              " }, 'tiredness': cohere.LabelPrediction {\n",
              " \tconfidence: 0.04718569\n",
              " }}\n",
              " }]"
            ]
          },
          "metadata": {},
          "execution_count": 12
        }
      ]
    },
    {
      "cell_type": "code",
      "source": [],
      "metadata": {
        "id": "ef7Ja_WkhKlp"
      },
      "execution_count": null,
      "outputs": []
    }
  ]
}